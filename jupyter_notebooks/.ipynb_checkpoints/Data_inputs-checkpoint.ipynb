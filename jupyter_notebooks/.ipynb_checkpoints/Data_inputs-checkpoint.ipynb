{
 "cells": [
  {
   "cell_type": "code",
   "execution_count": 1,
   "metadata": {
    "collapsed": true
   },
   "outputs": [],
   "source": [
    "import pandas as pd\n",
    "import geopandas as gpd\n",
    "import os, sys\n",
    "import numpy as np\n",
    "os.chdir('/Users/okavvada/Documents/Post-doc/BioSiting_tool/') "
   ]
  },
  {
   "cell_type": "code",
   "execution_count": 2,
   "metadata": {
    "collapsed": true
   },
   "outputs": [],
   "source": [
    "from functions import getBiomassInCountiesAll, loadDatasets, getPointGeoDataFrame"
   ]
  },
  {
   "cell_type": "code",
   "execution_count": 3,
   "metadata": {
    "collapsed": true
   },
   "outputs": [],
   "source": [
    "xls_path = 'GIS_data/data_biositingtool_withwetweight.xlsx'"
   ]
  },
  {
   "cell_type": "code",
   "execution_count": 4,
   "metadata": {},
   "outputs": [
    {
     "ename": "OSError",
     "evalue": "[Errno 2] No such file or directory",
     "output_type": "error",
     "traceback": [
      "\u001b[0;31m---------------------------------------------------------------------------\u001b[0m",
      "\u001b[0;31mOSError\u001b[0m                                   Traceback (most recent call last)",
      "\u001b[0;32m<ipython-input-4-acdaa19701fd>\u001b[0m in \u001b[0;36m<module>\u001b[0;34m()\u001b[0m\n\u001b[1;32m      8\u001b[0m \u001b[0;32mfor\u001b[0m \u001b[0msheet\u001b[0m \u001b[0;32min\u001b[0m \u001b[0msheets\u001b[0m\u001b[0;34m:\u001b[0m\u001b[0;34m\u001b[0m\u001b[0m\n\u001b[1;32m      9\u001b[0m     \u001b[0mcsv\u001b[0m \u001b[0;34m=\u001b[0m \u001b[0;34m'GIS_data/tempt_'\u001b[0m \u001b[0;34m+\u001b[0m \u001b[0msheet\u001b[0m \u001b[0;34m+\u001b[0m \u001b[0;34m'.csv'\u001b[0m\u001b[0;34m\u001b[0m\u001b[0m\n\u001b[0;32m---> 10\u001b[0;31m     \u001b[0mcall\u001b[0m\u001b[0;34m(\u001b[0m\u001b[0;34m[\u001b[0m\u001b[0;34m'cscript.exe'\u001b[0m\u001b[0;34m,\u001b[0m \u001b[0;34m'GIS_data/ExcelToCsv.vbs'\u001b[0m\u001b[0;34m,\u001b[0m \u001b[0mexcel\u001b[0m\u001b[0;34m,\u001b[0m \u001b[0mcsv\u001b[0m\u001b[0;34m,\u001b[0m \u001b[0msheet\u001b[0m\u001b[0;34m]\u001b[0m\u001b[0;34m)\u001b[0m\u001b[0;34m\u001b[0m\u001b[0m\n\u001b[0m\u001b[1;32m     11\u001b[0m     \u001b[0mdf\u001b[0m\u001b[0;34m[\u001b[0m\u001b[0msheet\u001b[0m\u001b[0;34m]\u001b[0m\u001b[0;34m=\u001b[0m\u001b[0mpd\u001b[0m\u001b[0;34m.\u001b[0m\u001b[0mread_csv\u001b[0m\u001b[0;34m(\u001b[0m\u001b[0mcsv\u001b[0m\u001b[0;34m)\u001b[0m\u001b[0;34m\u001b[0m\u001b[0m\n",
      "\u001b[0;32m/Users/okavvada/anaconda2/lib/python2.7/subprocess.pyc\u001b[0m in \u001b[0;36mcall\u001b[0;34m(*popenargs, **kwargs)\u001b[0m\n\u001b[1;32m    166\u001b[0m     \u001b[0mretcode\u001b[0m \u001b[0;34m=\u001b[0m \u001b[0mcall\u001b[0m\u001b[0;34m(\u001b[0m\u001b[0;34m[\u001b[0m\u001b[0;34m\"ls\"\u001b[0m\u001b[0;34m,\u001b[0m \u001b[0;34m\"-l\"\u001b[0m\u001b[0;34m]\u001b[0m\u001b[0;34m)\u001b[0m\u001b[0;34m\u001b[0m\u001b[0m\n\u001b[1;32m    167\u001b[0m     \"\"\"\n\u001b[0;32m--> 168\u001b[0;31m     \u001b[0;32mreturn\u001b[0m \u001b[0mPopen\u001b[0m\u001b[0;34m(\u001b[0m\u001b[0;34m*\u001b[0m\u001b[0mpopenargs\u001b[0m\u001b[0;34m,\u001b[0m \u001b[0;34m**\u001b[0m\u001b[0mkwargs\u001b[0m\u001b[0;34m)\u001b[0m\u001b[0;34m.\u001b[0m\u001b[0mwait\u001b[0m\u001b[0;34m(\u001b[0m\u001b[0;34m)\u001b[0m\u001b[0;34m\u001b[0m\u001b[0m\n\u001b[0m\u001b[1;32m    169\u001b[0m \u001b[0;34m\u001b[0m\u001b[0m\n\u001b[1;32m    170\u001b[0m \u001b[0;34m\u001b[0m\u001b[0m\n",
      "\u001b[0;32m/Users/okavvada/anaconda2/lib/python2.7/subprocess.pyc\u001b[0m in \u001b[0;36m__init__\u001b[0;34m(self, args, bufsize, executable, stdin, stdout, stderr, preexec_fn, close_fds, shell, cwd, env, universal_newlines, startupinfo, creationflags)\u001b[0m\n\u001b[1;32m    388\u001b[0m                                 \u001b[0mp2cread\u001b[0m\u001b[0;34m,\u001b[0m \u001b[0mp2cwrite\u001b[0m\u001b[0;34m,\u001b[0m\u001b[0;34m\u001b[0m\u001b[0m\n\u001b[1;32m    389\u001b[0m                                 \u001b[0mc2pread\u001b[0m\u001b[0;34m,\u001b[0m \u001b[0mc2pwrite\u001b[0m\u001b[0;34m,\u001b[0m\u001b[0;34m\u001b[0m\u001b[0m\n\u001b[0;32m--> 390\u001b[0;31m                                 errread, errwrite)\n\u001b[0m\u001b[1;32m    391\u001b[0m         \u001b[0;32mexcept\u001b[0m \u001b[0mException\u001b[0m\u001b[0;34m:\u001b[0m\u001b[0;34m\u001b[0m\u001b[0m\n\u001b[1;32m    392\u001b[0m             \u001b[0;31m# Preserve original exception in case os.close raises.\u001b[0m\u001b[0;34m\u001b[0m\u001b[0;34m\u001b[0m\u001b[0m\n",
      "\u001b[0;32m/Users/okavvada/anaconda2/lib/python2.7/subprocess.pyc\u001b[0m in \u001b[0;36m_execute_child\u001b[0;34m(self, args, executable, preexec_fn, close_fds, cwd, env, universal_newlines, startupinfo, creationflags, shell, to_close, p2cread, p2cwrite, c2pread, c2pwrite, errread, errwrite)\u001b[0m\n\u001b[1;32m   1023\u001b[0m                         \u001b[0;32mraise\u001b[0m\u001b[0;34m\u001b[0m\u001b[0m\n\u001b[1;32m   1024\u001b[0m                 \u001b[0mchild_exception\u001b[0m \u001b[0;34m=\u001b[0m \u001b[0mpickle\u001b[0m\u001b[0;34m.\u001b[0m\u001b[0mloads\u001b[0m\u001b[0;34m(\u001b[0m\u001b[0mdata\u001b[0m\u001b[0;34m)\u001b[0m\u001b[0;34m\u001b[0m\u001b[0m\n\u001b[0;32m-> 1025\u001b[0;31m                 \u001b[0;32mraise\u001b[0m \u001b[0mchild_exception\u001b[0m\u001b[0;34m\u001b[0m\u001b[0m\n\u001b[0m\u001b[1;32m   1026\u001b[0m \u001b[0;34m\u001b[0m\u001b[0m\n\u001b[1;32m   1027\u001b[0m \u001b[0;34m\u001b[0m\u001b[0m\n",
      "\u001b[0;31mOSError\u001b[0m: [Errno 2] No such file or directory"
     ]
    }
   ],
   "source": [
    "# create a list with sheet numbers you want to process\n",
    "sheets = map(str,range(1,6))\n",
    "\n",
    "# convert each sheet to csv and then read it using read_csv\n",
    "df={}\n",
    "from subprocess import call\n",
    "excel=xls_path\n",
    "for sheet in sheets:\n",
    "    csv = 'GIS_data/tempt_' + sheet + '.csv' \n",
    "    call(['GIS_data/ExcelToCsv.vbs', excel, csv, sheet])\n",
    "    df[sheet]=pd.read_csv(csv)"
   ]
  },
  {
   "cell_type": "code",
   "execution_count": null,
   "metadata": {
    "collapsed": true
   },
   "outputs": [],
   "source": []
  },
  {
   "cell_type": "code",
   "execution_count": null,
   "metadata": {
    "collapsed": true
   },
   "outputs": [],
   "source": []
  },
  {
   "cell_type": "code",
   "execution_count": 4,
   "metadata": {
    "collapsed": true
   },
   "outputs": [],
   "source": [
    "manure_pts = pd.read_excel(xls_path, sheetname='manure_pts')\n",
    "manure_nonpts = pd.read_excel(xls_path, sheetname='manure_nonpts')\n",
    "msw_CBGcntrd = pd.read_excel(xls_path, sheetname='msw_CBGcntrd')\n",
    "crp2016_pts = pd.read_excel(xls_path, sheetname='crp2016_pts')\n",
    "crp2020_pts = pd.read_excel(xls_path, sheetname='crp2020_pts')\n",
    "crp2050_pts = pd.read_excel(xls_path, sheetname='crp2050_pts')\n",
    "proc_pts = pd.read_excel(xls_path, sheetname='proc_pts')\n",
    "proc_nonpts = pd.read_excel(xls_path, sheetname='proc_nonpts')\n",
    "\n",
    "DES_CBGcntrd = pd.read_excel(xls_path, sheetname='DES_CBGcntrd')\n",
    "MUD_nonpt = pd.read_excel(xls_path, sheetname='MUD_nonpt')\n",
    "PROC_ZCcntrd = pd.read_excel(xls_path, sheetname='PROC_ZCcntrd')\n",
    "COMB_pts = pd.read_excel(xls_path, sheetname='COMB_pts')\n",
    "AD_pts = pd.read_excel(xls_path, sheetname='AD_pts')\n",
    "W2E_pts = pd.read_excel(xls_path, sheetname='W2E_pts')"
   ]
  },
  {
   "cell_type": "code",
   "execution_count": 5,
   "metadata": {
    "collapsed": true
   },
   "outputs": [],
   "source": [
    "manure_pts = manure_pts.drop_duplicates(subset=['CAFO','County','WDID','Mclf_wet16','Mdy_wet16','Mbf_wet16','Mhg_wet16','Mly_wet16','Mclf_wet20','Mdy_wet20','Mbf_wet20','Mhg_wet20','Mly_wet20','Mclf_wet50','Mdy_wet50','Mbf_wet50','Mhg_wet50'])\n",
    "manure_nonpts = manure_nonpts.drop_duplicates(subset=['County','Mlr_wet16', 'Mpl_wet16', 'Mbr_wet16', 'Mtk_wet16', 'Mhg_wet16', 'Mgt_wet16', 'Msh_wet16', 'Meq_wet16', 'Mdk_wet16', 'Blr_wet16', 'Bpl_wet16', 'Bbr_wet16', 'Mlr_wet20', 'Mpl_wet20', 'Mbr_wet20', 'Mtk_wet20', 'Mhg_wet20', 'Mgt_wet20', 'Msh_wet20', 'Meq_wet20', 'Mdk_wet20', 'Blr_wet20', 'Bpl_wet20', 'Bbr_wet20', 'Mlr_wet50', 'Mpl_wet50', 'Mbr_wet50', 'Mtk_wet50', 'Mhg_wet50', 'Mgt_wet50', 'Msh_wet50', 'Meq_wet50', 'Mdk_wet50','Blr_wet50'])\n",
    "msw_CBGcntrd = msw_CBGcntrd.drop_duplicates(subset=['TRACTCE','County','MSWlb_dry50', 'MSWpp_dry50', 'MSWcd_dry50', 'MSWgn_dry50', 'MSWfd_wet50', 'MSWfog_wet50', 'MSWot_wet50', 'MSWlb_dry20', 'MSWpp_dry20', 'MSWcd_dry20', 'MSWgn_dry50', 'MSWfog_wet20', 'MSWot_wet20', 'MSWfd_wet20', 'MSWlb_dry16', 'MSWpp_dry16', 'MSWcd_dry16', 'MSWgn_dry20'])\n",
    "crp2016_pts = crp2016_pts.drop_duplicates(subset=['FIPS','COUNTY','CL_SZ','CL_SS','CROP','RES_dry16','CULL_wet16','PT_WT'])\n",
    "crp2020_pts = crp2020_pts.drop_duplicates(subset=['FIPS','COUNTY','CL_SZ','CL_SS','CROP','RES_dry20','CULL_wet20','PT_WT'])\n",
    "crp2050_pts = crp2050_pts.drop_duplicates(subset=['FIPS','COUNTY','CL_SZ','CL_SS','CROP','RES_dry50','CULL_wet50','PT_WT'])\n",
    "proc_pts = proc_pts.drop_duplicates(subset=['COUNTY','Company','MASTERTYPE','Type','Subtype','Latitude','Longitude','Emplycode'])\n",
    "proc_nonpts = proc_nonpts.drop_duplicates(subset=['COUNTY','Pff_wet50', 'Pwn_wet50', 'Pbry_wet50', 'Pdst_wet50', 'Prm_wet50', 'Ppm_wet50', 'Pah_dry50', 'Pas_dry50', 'Pws_dry50', 'Potns_dry50', 'Prh_dry50', 'Pcgt_dry50', 'Pcn_dry50', 'Pdeh_dry50', 'Pbky_wet50', 'Ptll_wet50', 'Pgrc_dry50', 'PPt_dry50', 'Pcn_wet20', 'Pdeh_wet20', 'Pff_wet20', 'Pwn_wet20', 'Pbry_wet20', 'Pdst_wet20', 'Prm_wet20', 'Ppm_wet20', 'Pah_dry20', 'Pas_dry20', 'Pws_dry20', 'Potns_dry20', 'Prh_dry20', 'Pcgt_dry20', 'Pcn_dry20', 'Pdeh_dry20', 'Pbky_wet20'])\n",
    "\n",
    "DES_CBGcntrd = DES_CBGcntrd.drop_duplicates(subset=['City','Type','PrimaryFue','USETYPE','CapSt','CapHW','CapCW','CHPCGCap','ExcessC','ExcessH'])\n",
    "MUD_nonpt = MUD_nonpt.drop_duplicates(subset=['County', 'Sm20','Med20','Lg20','Sm50','Med50','Lg50','Ctot50','Htot0','CGentotC50','CGentotH0','Clg50','Hlg50','CGenlgC50','CGenlgH0','Ctot20','Htot0','CGentotC20','CGentotH0','Clg20','Hlg20'])\n",
    "PROC_ZCcntrd = PROC_ZCcntrd.drop_duplicates(subset=['ZIPCODE','ESTAB','LOW_PH','AVG_PH','HIGH_PH','LOW_PC','AVG_PC','HIGH_PC'])\n",
    "COMB_pts = COMB_pts.drop_duplicates(subset=['CITY','NAME','COUNTY','Equivalent Generation','NP_MW','CF','YearLoadBDT','FUEL'])\n",
    "AD_pts = AD_pts.drop_duplicates(subset=['NAME','COUNTY','Equivalent Generation','MGDavg','DayLoad','DayloadBDT'])\n",
    "W2E_pts = W2E_pts.drop_duplicates(subset=['City','Name','County','Equivalent Generation','Feedstock','DayLoad','DayLoadBDT'])"
   ]
  },
  {
   "cell_type": "code",
   "execution_count": 14,
   "metadata": {
    "collapsed": true
   },
   "outputs": [],
   "source": [
    "manure_pts_gpd = gpd.read_file('GIS_data/Shapefile_Drafts/CAFO.shp')\n",
    "crp2016_pts_gpd = gpd.read_file('GIS_data/Shapefile_Drafts/crop_groupcentroid2016.shp')\n",
    "crp2020_pts_gpd = gpd.read_file('GIS_data/Shapefile_Drafts/crop_groupcentroid2020.shp')\n",
    "crp2050_pts_gpd = gpd.read_file('GIS_data/Shapefile_Drafts/crop_groupcentroid2050.shp')\n",
    "msw_CBGcntrd_gpd = gpd.read_file('GIS_data/Shapefile_Drafts/CTcentroidformMSW.shp')\n",
    "#proc_pts_gpd = gpd.read_file('GIS_data/Shapefile_Drafts/FoodProcessors_LBNL_7_20_17wcounty.shp')\n",
    "\n",
    "DES_CBGcntrd_gpd = gpd.read_file('GIS_data/Shapefile_Drafts/CBGcentroidforDES.shp')\n",
    "MUD_nonpt_gpd = gpd.read_file('GIS_data/Shapefile_Drafts/CA_Counties_Simple.shp')\n",
    "PROC_ZCcntrd_gpd = gpd.read_file('GIS_data/Shapefile_Drafts/Zccentroidfoodprocenergy.shp')\n",
    "COMB_pts_gpd = gpd.read_file('GIS_data/Shapefile_Drafts/COMB_rev.shp')\n",
    "AD_pts_gpd = gpd.read_file('GIS_data/Shapefile_Drafts/WWTFbynearestcity.shp')\n",
    "W2E_pts_gpd = gpd.read_file('GIS_data/Shapefile_Drafts/organics_facilities.shp')\n",
    "county_df = gpd.read_file('GIS_data/Shapefile_Drafts/CA_Counties_Simple.shp')"
   ]
  },
  {
   "cell_type": "code",
   "execution_count": 3,
   "metadata": {
    "collapsed": true
   },
   "outputs": [],
   "source": [
    "cbg_thermalrun02016 = gpd.read_file('GIS_data/Shapefile_Drafts/2016cbgRun0_simple.shp')\n",
    "# cbg_thermalrun02020 = gpd.read_file('GIS_data/Shapefile_Drafts/cbg_thermalrun0cbg2020_simple.shp')\n",
    "# cbg_thermalrun02050 = gpd.read_file('GIS_data/Shapefile_Drafts/cbg_thermalrun02050_simple.shp')\n",
    "cbg_thermalrun02016_original = gpd.read_file('GIS_data/Shapefile_Drafts/2016cbgRun0.shp')\n",
    "cbg_thermalrun02020_original = gpd.read_file('GIS_data/Shapefile_Drafts/2020cbgRun0.shp')\n",
    "cbg_thermalrun02050_original = gpd.read_file('GIS_data/Shapefile_Drafts/2050cbgRun0.shp')"
   ]
  },
  {
   "cell_type": "code",
   "execution_count": 4,
   "metadata": {
    "collapsed": true
   },
   "outputs": [],
   "source": [
    "crs_init = cbg_thermalrun02016_original.crs\n",
    "cbg_thermalrun02016.crs = crs_init\n",
    "# cbg_thermalrun02020.crs = crs_init\n",
    "# cbg_thermalrun02050.crs = crs_init"
   ]
  },
  {
   "cell_type": "code",
   "execution_count": 5,
   "metadata": {
    "collapsed": true
   },
   "outputs": [],
   "source": [
    "crs = {'init': 'epsg:4326'}"
   ]
  },
  {
   "cell_type": "code",
   "execution_count": 16,
   "metadata": {
    "collapsed": true
   },
   "outputs": [],
   "source": [
    "MUD_nonpt_gpd = MUD_nonpt_gpd.to_crs(crs)\n",
    "DES_CBGcntrd_gpd = DES_CBGcntrd_gpd.to_crs(crs)\n",
    "PROC_ZCcntrd_gpd = PROC_ZCcntrd_gpd.to_crs(crs)\n",
    "COMB_pts_gpd = COMB_pts_gpd.to_crs(crs)\n",
    "crp2016_pts_gpd = crp2016_pts_gpd.to_crs(crs)\n",
    "crp2020_pts_gpd = crp2020_pts_gpd.to_crs(crs)\n",
    "crp2050_pts_gpd = crp2050_pts_gpd.to_crs(crs)\n",
    "county_df = county_df.to_crs(crs)"
   ]
  },
  {
   "cell_type": "code",
   "execution_count": 6,
   "metadata": {
    "collapsed": true
   },
   "outputs": [],
   "source": [
    "cbg_thermalrun02016 = cbg_thermalrun02016.to_crs(crs)\n",
    "cbg_thermalrun02016_original = cbg_thermalrun02016_original.drop(['geometry'], axis=1)\n",
    "cbg_thermalrun02020_original = cbg_thermalrun02020_original.drop(['geometry'], axis=1)\n",
    "cbg_thermalrun02050_original = cbg_thermalrun02050_original.drop(['geometry'], axis=1)"
   ]
  },
  {
   "cell_type": "code",
   "execution_count": 7,
   "metadata": {
    "collapsed": true
   },
   "outputs": [],
   "source": [
    "cbg_thermalrun02016_gpd = pd.merge(cbg_thermalrun02016_original, cbg_thermalrun02016, left_index=True, right_index=True, how='left')"
   ]
  },
  {
   "cell_type": "code",
   "execution_count": 8,
   "metadata": {
    "collapsed": true
   },
   "outputs": [],
   "source": [
    "cbg_thermalrun02016_gpd['SUM_TotC16'] = cbg_thermalrun02016_gpd['CDenArea']\n",
    "cbg_thermalrun02016_gpd['SUM_TotH16'] = cbg_thermalrun02016_gpd['HDenArea']\n",
    "cbg_thermalrun02020_original['SUM_TotC20'] = cbg_thermalrun02020_original['CDenArea']\n",
    "cbg_thermalrun02020_original['SUM_TotH20'] = cbg_thermalrun02020_original['HDenArea']\n",
    "cbg_thermalrun02050_original['SUM_TotC50'] = cbg_thermalrun02050_original['CDenArea']\n",
    "cbg_thermalrun02050_original['SUM_TotH50'] = cbg_thermalrun02050_original['HDenArea']"
   ]
  },
  {
   "cell_type": "code",
   "execution_count": 9,
   "metadata": {
    "collapsed": true
   },
   "outputs": [],
   "source": [
    "cbg_thermalrun02020_gpd = cbg_thermalrun02020_original[['OBJECTID', 'SUM_TotC20', 'SUM_TotH20']]\n",
    "cbg_thermalrun02050_gpd = cbg_thermalrun02050_original[['OBJECTID', 'SUM_TotC50', 'SUM_TotH50']]\n",
    "cbg_thermalrun_gpd = pd.merge(cbg_thermalrun02016_gpd, cbg_thermalrun02020_gpd, left_on='OBJECTID', right_on='OBJECTID', how='left')\n",
    "cbg_thermalrun_gpd = cbg_thermalrun_gpd[['OBJECTID', 'SUM_TotC20', 'SUM_TotH20', 'SUM_TotC16', 'SUM_TotH16', 'geometry']]\n",
    "\n",
    "cbg_thermalrun_gpd_all = gpd.GeoDataFrame(pd.merge(cbg_thermalrun_gpd, cbg_thermalrun02050_gpd, left_on='OBJECTID', right_on='OBJECTID', how='left'))"
   ]
  },
  {
   "cell_type": "code",
   "execution_count": 17,
   "metadata": {
    "collapsed": true
   },
   "outputs": [],
   "source": [
    "manure_pts_gpd = manure_pts_gpd[['geometry', 'OBJECTID']]\n",
    "crp2016_pts_gpd = crp2016_pts_gpd[['geometry']]\n",
    "crp2020_pts_gpd = crp2020_pts_gpd[['geometry']]\n",
    "crp2050_pts_gpd = crp2050_pts_gpd[['geometry']]\n",
    "msw_CBGcntrd_gpd = msw_CBGcntrd_gpd[['geometry']]\n",
    "#proc_pts_gpd = proc_pts_gpd[['geometry']]\n",
    "\n",
    "DES_CBGcntrd_gpd = DES_CBGcntrd_gpd[['geometry']]\n",
    "MUD_nonpt_gpd = MUD_nonpt_gpd[['geometry', 'NAME']]\n",
    "PROC_ZCcntrd_gpd = PROC_ZCcntrd_gpd[['geometry', 'ZIP_CODE']]\n",
    "COMB_pts_gpd = COMB_pts_gpd[['geometry']]\n",
    "AD_pts_gpd = AD_pts_gpd[['geometry', 'NAME']]\n",
    "W2E_pts_gpd = W2E_pts_gpd[['geometry', 'NAME']]\n",
    "county_df = county_df[['geometry', 'NAME']]\n",
    "county_df['County'] = county_df['NAME']"
   ]
  },
  {
   "cell_type": "code",
   "execution_count": 18,
   "metadata": {
    "collapsed": true
   },
   "outputs": [],
   "source": [
    "PROC_ZCcntrd_gpd['ZIPCODE'] = [int(item) for item in PROC_ZCcntrd_gpd['ZIP_CODE']]"
   ]
  },
  {
   "cell_type": "code",
   "execution_count": 19,
   "metadata": {
    "collapsed": true
   },
   "outputs": [],
   "source": [
    "manure_pts_gpd_final = pd.merge(manure_pts_gpd, manure_pts, left_on='OBJECTID', right_on='OBJECTID', how='right')\n",
    "crp2016_pts_gpd_final = pd.merge(crp2016_pts_gpd, crp2016_pts, left_index=True, right_on='FID', how='right')\n",
    "crp2020_pts_gpd_final = pd.merge(crp2020_pts_gpd, crp2020_pts, left_index=True, right_on='FID', how='right')\n",
    "crp2050_pts_gpd_final = pd.merge(crp2050_pts_gpd, crp2050_pts, left_index=True, right_on='FID', how='right')\n",
    "msw_CBGcntrd_gpd_final = pd.merge(msw_CBGcntrd_gpd, msw_CBGcntrd, left_index=True, right_on='FID', how='right')\n",
    "#proc_pts_gpd_final = pd.merge(proc_pts_gpd, proc_pts, left_index=True, right_on='FID', how='right')\n",
    "\n",
    "DES_CBGcntrd_gpd_final = pd.merge(DES_CBGcntrd_gpd, DES_CBGcntrd, left_index=True, right_on='FID', how='right')\n",
    "MUD_nonpt_gpd_final = pd.merge(MUD_nonpt_gpd, MUD_nonpt, left_on='NAME', right_on='County', how='right')\n",
    "PROC_ZCcntrd_gpd_final = pd.merge(PROC_ZCcntrd_gpd, PROC_ZCcntrd, left_on='ZIPCODE', right_on='ZIPCODE', how='right')\n",
    "COMB_pts_gpd_final = pd.merge(COMB_pts_gpd, COMB_pts, left_index=True, right_index=True, how='right')\n",
    "AD_pts_gpd_final = pd.merge(AD_pts_gpd, AD_pts, left_on='NAME', right_on='NAME', how='right')\n",
    "W2E_pts_gpd_final = pd.merge(W2E_pts_gpd, W2E_pts, left_on='NAME', right_on='City', how='right')"
   ]
  },
  {
   "cell_type": "code",
   "execution_count": 20,
   "metadata": {
    "collapsed": true
   },
   "outputs": [],
   "source": [
    "PROC_ZCcntrd_gpd_final = PROC_ZCcntrd_gpd_final[~PROC_ZCcntrd_gpd_final['geometry'].isnull()]"
   ]
  },
  {
   "cell_type": "code",
   "execution_count": 22,
   "metadata": {
    "collapsed": true
   },
   "outputs": [],
   "source": [
    "AD_pts_gpd_final['Type'] = 'AD_pts'\n",
    "COMB_pts_gpd_final['Type'] = 'COMB_pts'\n",
    "W2E_pts_gpd_final['Type'] = 'W2E_pts'\n",
    "DES_CBGcntrd_gpd_final['Type'] = 'DES_CBG_pts'\n",
    "PROC_ZCcntrd_gpd_final['Type'] = 'PROC_ZC_pts'\n",
    "manure_pts_gpd_final['Type'] = 'manure'\n",
    "crp2016_pts_gpd_final['Type'] = 'crop'\n",
    "crp2020_pts_gpd_final['Type'] = 'crop'\n",
    "crp2050_pts_gpd_final['Type'] = 'crop'\n",
    "msw_CBGcntrd_gpd_final['Type'] = 'msw'"
   ]
  },
  {
   "cell_type": "markdown",
   "metadata": {
    "collapsed": true
   },
   "source": [
    "manure_pts_gpd_final = loadDatasets('GIS_data/final_data/manure_pts.csv')\n",
    "crp2016_pts_gpd_final = loadDatasets('GIS_data/final_data/crp2016_pts.csv')\n",
    "crp2020_pts_gpd_final = loadDatasets('GIS_data/final_data/crp2020_pts.csv')\n",
    "crp2050_pts_gpd_final = loadDatasets('GIS_data/final_data/crp2050_pts.csv')\n",
    "msw_CBGcntrd_gpd_final = loadDatasets('GIS_data/final_data/msw_CBGcntrd.csv')\n",
    "proc_pts_gpd_final = loadDatasets('GIS_data/final_data/proc_pts.csv')\n",
    "\n",
    "DES_CBGcntrd_gpd_final = loadDatasets('GIS_data/final_data/DES_CBGcntrd.csv')\n",
    "MUD_nonpt_gpd_final = loadDatasets('GIS_data/final_data/MUD_nonpt.csv')\n",
    "PROC_ZCcntrd_gpd_final = loadDatasets('GIS_data/final_data/PROC_ZCcntrd.csv')\n",
    "COMB_pts_gpd_final = loadDatasets('GIS_data/final_data/COMB_pts.csv')\n",
    "AD_pts_gpd_final = loadDatasets('GIS_data/final_data/AD_pts.csv')\n",
    "W2E_pts_gpd_final = loadDatasets('GIS_data/final_data/W2E_pts.csv')\n",
    "manure_nonpts = pd.read_csv('GIS_data/final_data/manure_nonpts.csv')\n",
    "proc_nonpts = pd.read_csv(('GIS_data/final_data/proc_nonpts.csv'))\n",
    "\n",
    "cbg_thermalrun_gpd_all = loadDatasets('GIS_data/final_data/cbg_thermalrun_gpd_dissolve.csv')\n",
    "counties_df = loadDatasets('GIS_data/final_data/counties.csv')"
   ]
  },
  {
   "cell_type": "code",
   "execution_count": 23,
   "metadata": {},
   "outputs": [
    {
     "name": "stderr",
     "output_type": "stream",
     "text": [
      "/Users/okavvada/anaconda2/lib/python2.7/site-packages/geopandas/tools/sjoin.py:44: UserWarning: CRS of frames being joined does not match!\n",
      "  warn('CRS of frames being joined does not match!')\n"
     ]
    }
   ],
   "source": [
    "county_with_totals = getBiomassInCountiesAll(county_df, \n",
    "                                        manure_pts_gpd_final, \n",
    "                                        msw_CBGcntrd_gpd_final, \n",
    "                                        crp2016_pts_gpd_final,\n",
    "                                        crp2020_pts_gpd_final,\n",
    "                                        crp2050_pts_gpd_final,\n",
    "                                        manure_nonpts,\n",
    "                                        proc_nonpts)"
   ]
  },
  {
   "cell_type": "markdown",
   "metadata": {
    "collapsed": true
   },
   "source": [
    "county_with_totals = county_with_totals[['NAME', u'County','geometry', 'CID', u'manure_biomass_16',\n",
    "       u'msw_biomass_16', u'crop_biomass_16', u'manure_nonpts_biomass_16', u'proc_nonpts_biomass_16',\n",
    "       u'manure_biomass_20', u'msw_biomass_20', u'crop_biomass_20',\n",
    "       u'manure_nonpts_biomass_20', u'proc_nonpts_biomass_20', u'manure_biomass_50', u'msw_biomass_50',\n",
    "       u'crop_biomass_50', u'manure_nonpts_biomass_50', u'proc_nonpts_biomass_50',\n",
    "       u'manure_biomass_wet_16', u'msw_biomass_wet_16', u'crop_biomass_wet_16',\n",
    "       u'manure_nonpts_biomass_wet_16',u'proc_nonpts_biomass_wet_16',  u'manure_biomass_wet_20',\n",
    "       u'msw_biomass_wet_20', u'crop_biomass_wet_20',\n",
    "       u'manure_nonpts_biomass_wet_20', u'proc_nonpts_biomass_wet_20', u'manure_biomass_wet_50',\n",
    "       u'msw_biomass_wet_50', u'crop_biomass_wet_50',\n",
    "       u'manure_nonpts_biomass_wet_50',u'proc_nonpts_biomass_wet_50',  u'manure_biomass_dry_16',\n",
    "       u'msw_biomass_dry_16', u'crop_biomass_dry_16',\n",
    "       u'manure_nonpts_biomass_dry_16',u'proc_nonpts_biomass_dry_16', u'manure_biomass_dry_20',\n",
    "       u'msw_biomass_dry_20', u'crop_biomass_dry_20',\n",
    "       u'manure_nonpts_biomass_dry_20', u'proc_nonpts_biomass_dry_20',u'manure_biomass_dry_50',\n",
    "       u'msw_biomass_dry_50', u'crop_biomass_dry_50',\n",
    "       u'manure_nonpts_biomass_dry_50', u'proc_nonpts_biomass_dry_50',u'county_total_16', u'county_total_20',\n",
    "       u'county_total_50', u'county_total_wet_16', u'county_total_wet_20',\n",
    "       u'county_total_wet_50', u'county_total_dry_16', u'county_total_dry_20',\n",
    "       u'county_total_dry_50', u'manure_biomass_16_wt', u'msw_biomass_16_wt', u'crop_biomass_16_wt', u'manure_nonpts_biomass_16_wt',\n",
    "       u'proc_nonpts_biomass_16_wt', u'manure_biomass_20_wt', u'msw_biomass_20_wt', u'crop_biomass_20_wt',\n",
    "       u'manure_nonpts_biomass_20_wt', u'proc_nonpts_biomass_20_wt', u'manure_biomass_50_wt', u'msw_biomass_50_wt',\n",
    "       u'crop_biomass_50_wt', u'manure_nonpts_biomass_50_wt', u'proc_nonpts_biomass_50_wt',\n",
    "       u'manure_biomass_wet_16_wt', u'msw_biomass_wet_16_wt', u'crop_biomass_wet_16_wt',\n",
    "       u'manure_nonpts_biomass_wet_16_wt', u'proc_nonpts_biomass_wet_16_wt', u'manure_biomass_wet_20_wt',\n",
    "       u'msw_biomass_wet_20_wt', u'crop_biomass_wet_20_wt',\n",
    "       u'manure_nonpts_biomass_wet_20_wt', u'proc_nonpts_biomass_wet_20_wt',u'manure_biomass_wet_50_wt',\n",
    "       u'msw_biomass_wet_50_wt', u'crop_biomass_wet_50_wt',\n",
    "       u'manure_nonpts_biomass_wet_50_wt', u'proc_nonpts_biomass_wet_50_wt', u'manure_biomass_dry_16_wt',\n",
    "       u'msw_biomass_dry_16_wt', u'crop_biomass_dry_16_wt',\n",
    "       u'manure_nonpts_biomass_dry_16_wt', u'proc_nonpts_biomass_dry_16_wt',u'manure_biomass_dry_20_wt',\n",
    "       u'msw_biomass_dry_20_wt', u'crop_biomass_dry_20_wt',\n",
    "       u'manure_nonpts_biomass_dry_20_wt',u'proc_nonpts_biomass_dry_20_wt', u'manure_biomass_dry_50_wt',\n",
    "       u'msw_biomass_dry_50_wt', u'crop_biomass_dry_50_wt',\n",
    "       u'manure_nonpts_biomass_dry_50_wt', u'proc_nonpts_biomass_dry_50_wt',u'county_total_16_wt', u'county_total_20_wt',\n",
    "       u'county_total_50_wt', u'county_total_wet_16_wt', u'county_total_wet_20_wt',\n",
    "       u'county_total_wet_50_wt', u'county_total_dry_16_wt', u'county_total_dry_20_wt',\n",
    "       u'county_total_dry_50_wt']]"
   ]
  },
  {
   "cell_type": "code",
   "execution_count": 24,
   "metadata": {
    "collapsed": true
   },
   "outputs": [],
   "source": [
    "columns = [u'manure_biomass_16', u'msw_biomass_16', u'crop_biomass_16', u'manure_nonpts_biomass_16', \n",
    "           u'proc_nonpts_biomass_16', u'manure_biomass_20', u'msw_biomass_20', u'crop_biomass_20',\n",
    "       u'manure_nonpts_biomass_20', u'proc_nonpts_biomass_20', u'manure_biomass_50', u'msw_biomass_50',\n",
    "       u'crop_biomass_50', u'manure_nonpts_biomass_50', u'proc_nonpts_biomass_50',\n",
    "       u'manure_biomass_wet_16', u'msw_biomass_wet_16', u'crop_biomass_wet_16',\n",
    "       u'manure_nonpts_biomass_wet_16',u'proc_nonpts_biomass_wet_16',  u'manure_biomass_wet_20',\n",
    "       u'msw_biomass_wet_20', u'crop_biomass_wet_20',\n",
    "       u'manure_nonpts_biomass_wet_20', u'proc_nonpts_biomass_wet_20', u'manure_biomass_wet_50',\n",
    "       u'msw_biomass_wet_50', u'crop_biomass_wet_50',\n",
    "       u'manure_nonpts_biomass_wet_50',u'proc_nonpts_biomass_wet_50',  u'manure_biomass_dry_16',\n",
    "       u'msw_biomass_dry_16', u'crop_biomass_dry_16',\n",
    "       u'manure_nonpts_biomass_dry_16',u'proc_nonpts_biomass_dry_16', u'manure_biomass_dry_20',\n",
    "       u'msw_biomass_dry_20', u'crop_biomass_dry_20',\n",
    "       u'manure_nonpts_biomass_dry_20', u'proc_nonpts_biomass_dry_20',u'manure_biomass_dry_50',\n",
    "       u'msw_biomass_dry_50', u'crop_biomass_dry_50',\n",
    "       u'manure_nonpts_biomass_dry_50', u'proc_nonpts_biomass_dry_50',u'county_total_16', u'county_total_20',\n",
    "       u'county_total_50', u'county_total_wet_16', u'county_total_wet_20',\n",
    "       u'county_total_wet_50', u'county_total_dry_16', u'county_total_dry_20',\n",
    "       u'county_total_dry_50']"
   ]
  },
  {
   "cell_type": "code",
   "execution_count": 25,
   "metadata": {
    "collapsed": true
   },
   "outputs": [],
   "source": [
    "columns_wt = [item +'_wt' for item in columns]\n",
    "columns_tech = [item +'_tech' for item in columns]\n",
    "columns_wt_tech = [item +'_tech' for item in columns_wt]\n",
    "all_cols = ['NAME', u'County','geometry', 'CID'] + columns + columns_wt + columns_tech + columns_wt_tech"
   ]
  },
  {
   "cell_type": "code",
   "execution_count": 26,
   "metadata": {
    "collapsed": true
   },
   "outputs": [],
   "source": [
    "county_with_totals = county_with_totals[all_cols]"
   ]
  },
  {
   "cell_type": "code",
   "execution_count": 27,
   "metadata": {
    "collapsed": true
   },
   "outputs": [],
   "source": [
    "\n",
    "columns_manure = ['Mclf_wet', 'Mdy_wet', 'Mbf_wet', 'Mhg_wet', 'Mly_wet']\n",
    "columns_msw_16 = ['MSWlb_dry', 'MSWpp_dry', 'MSWcd_dry', 'MSWfog_wet', 'MSWot_wet', 'MSWfd_wet']\n",
    "columns_msw_20 = ['MSWlb_dry', 'MSWpp_dry', 'MSWcd_dry', 'MSWfog_wet', 'MSWot_wet', 'MSWfd_wet', 'MSWgn_dry']\n",
    "columns_msw_50 = ['MSWlb_dry', 'MSWpp_dry', 'MSWcd_dry', 'MSWgn_dry', 'MSWfd_wet', 'MSWfog_wet', 'MSWot_wet', 'MSWgn_dry'] \n",
    "columns_crop = ['RES_dry', 'CULL_wet']\n",
    "columns_manure_nonpts = ['Mlr_wet', 'Mpl_wet', 'Mbr_wet', 'Mtk_wet', 'Mhg_wet', 'Mgt_wet', 'Msh_wet', 'Meq_wet', 'Mdk_wet', 'Blr_wet', 'Bpl_wet', 'Bbr_wet']\n",
    "columns_proc = ['Pcn_wet', 'Pdeh_wet', 'Pff_wet', 'Pwn_wet', 'Pbry_wet', 'Pdst_wet', 'Prm_wet', 'Ppm_wet', 'Pah_dry', 'Pas_dry', 'Pws_dry', 'Potns_dry', 'Prh_dry', 'Pcgt_dry', 'Pcn_dry', 'Pdeh_dry', 'Pbky_wet', 'Ptll_wet', 'Pgrc_dry', 'PPt_dry']\n",
    "\n",
    "for biomass_type in ['', '_wet', '_dry']:\n",
    "    for year in ['16', '20', '50']:\n",
    "        cols_manure = [item+year for item in columns_manure if biomass_type in item]\n",
    "        select_columns_man_nonpts = [item + year for item in columns_manure_nonpts if biomass_type in item]\n",
    "        select_columns_proc_nonpts = [item + year for item in columns_proc if biomass_type in item]\n",
    "        cols_manure_tech = [item + '_tech' for item in cols_manure]\n",
    "        select_columns_man_nonpts_tech = [item + '_tech' for item in select_columns_man_nonpts]\n",
    "        select_columns_proc_nonpts_tech = [item + '_tech' for item in select_columns_proc_nonpts]\n",
    "        cols_manure_wt = [item + '_wt' for item in cols_manure]\n",
    "        select_columns_man_nonpts_wt = [item + '_wt' for item in select_columns_man_nonpts]\n",
    "        select_columns_proc_nonpts_wt = [item + '_wt' for item in select_columns_proc_nonpts]\n",
    "        cols_manure_wt_tech = [item + '_tech' for item in cols_manure_wt]\n",
    "        select_columns_man_nonpts_wt_tech = [item + '_tech' for item in select_columns_man_nonpts_wt]\n",
    "        select_columns_proc_nonpts_wt_tech = [item + '_tech' for item in select_columns_proc_nonpts_wt]\n",
    "        manure_pts_gpd_final['tot{}_{}'.format(biomass_type,year)] = manure_pts_gpd_final[cols_manure].sum(axis=1)\n",
    "        manure_pts_gpd_final['tot{}_{}_wt'.format(biomass_type,year)] = manure_pts_gpd_final[cols_manure_wt].sum(axis=1)\n",
    "        manure_pts_gpd_final['tot{}_{}_tech'.format(biomass_type,year)] = manure_pts_gpd_final[cols_manure_tech].sum(axis=1)\n",
    "        manure_pts_gpd_final['tot{}_{}_wt_tech'.format(biomass_type,year)] = manure_pts_gpd_final[cols_manure_wt_tech].sum(axis=1)\n",
    "        \n",
    "        if year == '16': \n",
    "            cols_msw = columns_msw_16[:]\n",
    "            crop_county = crp2016_pts_gpd_final.copy()\n",
    "        if year == '20': \n",
    "            cols_msw = columns_msw_20[:]\n",
    "            crop_county = crp2020_pts_gpd_final.copy()\n",
    "        if year == '50': \n",
    "            cols_msw = columns_msw_50[:]\n",
    "            crop_county = crp2050_pts_gpd_final.copy()\n",
    "        cols_msw_year = [item+year for item in cols_msw if biomass_type in item]\n",
    "        select_columns_crp = [item+year for item in columns_crop if biomass_type in item]\n",
    "        cols_msw_year_tech = [item + '_tech' for item in cols_msw_year]\n",
    "        select_columns_crp_tech = [item + '_tech' for item in select_columns_crp]\n",
    "        cols_msw_year_wt = [item + '_wt' for item in cols_msw_year]\n",
    "        select_columns_crp_wt = [item + '_wt' for item in select_columns_crp]\n",
    "        cols_msw_year_wt_tech = [item + '_tech' for item in cols_msw_year_wt]\n",
    "        select_columns_crp_wt_tech = [item + '_tech' for item in select_columns_crp_wt]\n",
    "        msw_CBGcntrd_gpd_final['tot{}_{}'.format(biomass_type,year)] = msw_CBGcntrd_gpd_final[cols_msw_year].sum(axis=1)\n",
    "        manure_nonpts['tot{}_{}'.format(biomass_type,year)] = manure_nonpts[select_columns_man_nonpts].sum(axis=1)\n",
    "        proc_nonpts['tot{}_{}'.format(biomass_type,year)] = proc_nonpts[select_columns_proc_nonpts].sum(axis=1)\n",
    "        msw_CBGcntrd_gpd_final['tot{}_{}_tech'.format(biomass_type,year)] = msw_CBGcntrd_gpd_final[cols_msw_year_tech].sum(axis=1)\n",
    "        manure_nonpts['tot{}_{}_tech'.format(biomass_type,year)] = manure_nonpts[select_columns_man_nonpts_tech].sum(axis=1)\n",
    "        proc_nonpts['tot{}_{}_tech'.format(biomass_type,year)] = proc_nonpts[select_columns_proc_nonpts_tech].sum(axis=1)\n",
    "        msw_CBGcntrd_gpd_final['tot{}_{}_wt'.format(biomass_type,year)] = msw_CBGcntrd_gpd_final[cols_msw_year_wt].sum(axis=1)\n",
    "        manure_nonpts['tot{}_{}_wt'.format(biomass_type,year)] = manure_nonpts[select_columns_man_nonpts_wt].sum(axis=1)\n",
    "        proc_nonpts['tot{}_{}_wt'.format(biomass_type,year)] = proc_nonpts[select_columns_proc_nonpts_wt].sum(axis=1)\n",
    "        msw_CBGcntrd_gpd_final['tot{}_{}_wt_tech'.format(biomass_type,year)] = msw_CBGcntrd_gpd_final[cols_msw_year_wt_tech].sum(axis=1)\n",
    "        manure_nonpts['tot{}_{}_wt_tech'.format(biomass_type,year)] = manure_nonpts[select_columns_man_nonpts_wt_tech].sum(axis=1)\n",
    "        proc_nonpts['tot{}_{}_wt_tech'.format(biomass_type,year)] = proc_nonpts[select_columns_proc_nonpts_wt_tech].sum(axis=1)\n",
    "        \n",
    "        if year == '16': \n",
    "            crp2016_pts_gpd_final['tot{}_{}'.format(biomass_type,year)] = crp2016_pts_gpd_final[select_columns_crp].sum(axis=1)\n",
    "            crp2016_pts_gpd_final['tot{}_{}_wt'.format(biomass_type,year)] = crp2016_pts_gpd_final[select_columns_crp_wt].sum(axis=1)\n",
    "            crp2016_pts_gpd_final['tot{}_{}_tech'.format(biomass_type,year)] = crp2016_pts_gpd_final[select_columns_crp_tech].sum(axis=1)\n",
    "            crp2016_pts_gpd_final['tot{}_{}_wt_tech'.format(biomass_type,year)] = crp2016_pts_gpd_final[select_columns_crp_wt_tech].sum(axis=1)\n",
    "        if year == '20': \n",
    "            crp2020_pts_gpd_final['tot{}_{}'.format(biomass_type,year)] = crp2020_pts_gpd_final[select_columns_crp].sum(axis=1)\n",
    "            crp2020_pts_gpd_final['tot{}_{}_wt'.format(biomass_type,year)] = crp2020_pts_gpd_final[select_columns_crp_wt].sum(axis=1)\n",
    "            crp2020_pts_gpd_final['tot{}_{}_tech'.format(biomass_type,year)] = crp2020_pts_gpd_final[select_columns_crp_tech].sum(axis=1)\n",
    "            crp2020_pts_gpd_final['tot{}_{}_wt_tech'.format(biomass_type,year)] = crp2020_pts_gpd_final[select_columns_crp_wt_tech].sum(axis=1)\n",
    "        if year == '50': \n",
    "            crp2050_pts_gpd_final['tot{}_{}'.format(biomass_type,year)] = crp2050_pts_gpd_final[select_columns_crp].sum(axis=1)\n",
    "            crp2050_pts_gpd_final['tot{}_{}_wt'.format(biomass_type,year)] = crp2050_pts_gpd_final[select_columns_crp_wt].sum(axis=1)\n",
    "            crp2050_pts_gpd_final['tot{}_{}_tech'.format(biomass_type,year)] = crp2050_pts_gpd_final[select_columns_crp_tech].sum(axis=1)\n",
    "            crp2050_pts_gpd_final['tot{}_{}_wt_tech'.format(biomass_type,year)] = crp2050_pts_gpd_final[select_columns_crp_wt_tech].sum(axis=1)"
   ]
  },
  {
   "cell_type": "code",
   "execution_count": 28,
   "metadata": {
    "collapsed": true
   },
   "outputs": [],
   "source": [
    "county_with_totals=county_with_totals.fillna(0)\n",
    "manure_pts_gpd_final=manure_pts_gpd_final.fillna(0)\n",
    "crp2016_pts_gpd_final=crp2016_pts_gpd_final.fillna(0)\n",
    "crp2020_pts_gpd_final=crp2020_pts_gpd_final.fillna(0)\n",
    "crp2050_pts_gpd_final=crp2050_pts_gpd_final.fillna(0)\n",
    "msw_CBGcntrd_gpd_final=msw_CBGcntrd_gpd_final.fillna(0)\n",
    "#proc_pts_gpd_final.to_csv('GIS_data/final_data/proc_pts.csv')\n",
    "\n",
    "DES_CBGcntrd_gpd_final=DES_CBGcntrd_gpd_final.fillna(0)\n",
    "MUD_nonpt_gpd_final=MUD_nonpt_gpd_final.fillna(0)\n",
    "PROC_ZCcntrd_gpd_final=PROC_ZCcntrd_gpd_final.fillna(0)\n",
    "COMB_pts_gpd_final=COMB_pts_gpd_final.fillna(0)\n",
    "AD_pts_gpd_final=AD_pts_gpd_final.fillna(0)\n",
    "W2E_pts_gpd_final=W2E_pts_gpd_final.fillna(0)\n",
    "manure_nonpts=manure_nonpts.fillna(0)\n",
    "proc_nonpts=proc_nonpts.fillna(0)"
   ]
  },
  {
   "cell_type": "code",
   "execution_count": 31,
   "metadata": {
    "collapsed": true
   },
   "outputs": [],
   "source": [
    "county_with_totals.to_csv('GIS_data/final_data/counties.csv')\n",
    "manure_pts_gpd_final.to_csv('GIS_data/final_data/manure_pts.csv')\n",
    "crp2016_pts_gpd_final.to_csv('GIS_data/final_data/crp2016_pts.csv')\n",
    "crp2020_pts_gpd_final.to_csv('GIS_data/final_data/crp2020_pts.csv')\n",
    "crp2050_pts_gpd_final.to_csv('GIS_data/final_data/crp2050_pts.csv')\n",
    "msw_CBGcntrd_gpd_final.to_csv('GIS_data/final_data/msw_CBGcntrd.csv')\n",
    "#proc_pts_gpd_final.to_csv('GIS_data/final_data/proc_pts.csv')\n",
    "\n",
    "DES_CBGcntrd_gpd_final.to_csv('GIS_data/final_data/DES_CBGcntrd.csv')\n",
    "MUD_nonpt_gpd_final.to_csv('GIS_data/final_data/MUD_nonpt.csv')\n",
    "PROC_ZCcntrd_gpd_final.to_csv('GIS_data/final_data/PROC_ZCcntrd.csv')\n",
    "COMB_pts_gpd_final.to_csv('GIS_data/final_data/COMB_pts.csv')\n",
    "AD_pts_gpd_final.to_csv('GIS_data/final_data/AD_pts.csv')\n",
    "W2E_pts_gpd_final.to_csv('GIS_data/final_data/W2E_pts.csv')\n",
    "manure_nonpts.to_csv('GIS_data/final_data/manure_nonpts.csv')\n",
    "proc_nonpts.to_csv(('GIS_data/final_data/proc_nonpts.csv'))"
   ]
  },
  {
   "cell_type": "code",
   "execution_count": 62,
   "metadata": {
    "collapsed": true
   },
   "outputs": [],
   "source": [
    "cbg_thermalrun_gpd_all['Dissolve'] = np.where(((cbg_thermalrun_gpd_all['SUM_TotH16']==0) & \n",
    "                                           (cbg_thermalrun_gpd_all['SUM_TotC16']==0) & \n",
    "                                           (cbg_thermalrun_gpd_all['SUM_TotC50']==0) & \n",
    "                                           (cbg_thermalrun_gpd_all['SUM_TotH50']==0) &\n",
    "                                           (cbg_thermalrun_gpd_all['SUM_TotC20']==0) & \n",
    "                                           (cbg_thermalrun_gpd_all['SUM_TotH20']==0)), 'novals', 'havevals')"
   ]
  },
  {
   "cell_type": "code",
   "execution_count": 63,
   "metadata": {
    "collapsed": true
   },
   "outputs": [],
   "source": [
    "dissolved = cbg_thermalrun_gpd_all.dissolve(by='Dissolve')"
   ]
  },
  {
   "cell_type": "code",
   "execution_count": 64,
   "metadata": {
    "collapsed": true
   },
   "outputs": [],
   "source": [
    "dissolved['Dissolve'] = dissolved.index"
   ]
  },
  {
   "cell_type": "code",
   "execution_count": 65,
   "metadata": {
    "collapsed": true
   },
   "outputs": [],
   "source": [
    "cbg_dissolved_novals= dissolved[dissolved['Dissolve']=='novals']"
   ]
  },
  {
   "cell_type": "code",
   "execution_count": 66,
   "metadata": {
    "collapsed": true
   },
   "outputs": [],
   "source": [
    "cbg_thermalrun_gpd_withvals = cbg_thermalrun_gpd_all[cbg_thermalrun_gpd_all['Dissolve']=='havevals']"
   ]
  },
  {
   "cell_type": "code",
   "execution_count": 67,
   "metadata": {
    "collapsed": true
   },
   "outputs": [],
   "source": [
    "cbg_thermal_gpd_final = gpd.GeoDataFrame(pd.concat([cbg_thermalrun_gpd_withvals,cbg_dissolved_novals], ignore_index=True) )"
   ]
  },
  {
   "cell_type": "code",
   "execution_count": 68,
   "metadata": {
    "collapsed": true
   },
   "outputs": [],
   "source": [
    "counties_df = loadDatasets('GIS_data/final_data/counties.csv')"
   ]
  },
  {
   "cell_type": "code",
   "execution_count": 70,
   "metadata": {
    "collapsed": true
   },
   "outputs": [],
   "source": [
    "counties_df_geom = counties_df[['CID', 'geometry']]\n",
    "cbg_thermalrun_gpd = gpd.sjoin(cbg_thermal_gpd_final, counties_df_geom, how=\"left\", op='intersects')"
   ]
  },
  {
   "cell_type": "code",
   "execution_count": 37,
   "metadata": {
    "collapsed": true
   },
   "outputs": [],
   "source": [
    "cbg_thermal_gpd_final_dup = cbg_thermalrun_gpd.drop_duplicates(subset=['OBJECTID'])"
   ]
  },
  {
   "cell_type": "code",
   "execution_count": 51,
   "metadata": {
    "collapsed": true
   },
   "outputs": [],
   "source": [
    "cbg_thermal_gpd_final_dup.loc[:,('FID')] = cbg_thermal_gpd_final_dup['OBJECTID']"
   ]
  },
  {
   "cell_type": "code",
   "execution_count": 39,
   "metadata": {
    "collapsed": true
   },
   "outputs": [],
   "source": [
    "cbg_thermal_gpd_final_dup.to_csv('GIS_data/final_data/cbg_thermalrun_gpd_dissolve.csv')"
   ]
  },
  {
   "cell_type": "code",
   "execution_count": 41,
   "metadata": {},
   "outputs": [
    {
     "data": {
      "text/html": [
       "<div>\n",
       "<style>\n",
       "    .dataframe thead tr:only-child th {\n",
       "        text-align: right;\n",
       "    }\n",
       "\n",
       "    .dataframe thead th {\n",
       "        text-align: left;\n",
       "    }\n",
       "\n",
       "    .dataframe tbody tr th {\n",
       "        vertical-align: top;\n",
       "    }\n",
       "</style>\n",
       "<table border=\"1\" class=\"dataframe\">\n",
       "  <thead>\n",
       "    <tr style=\"text-align: right;\">\n",
       "      <th></th>\n",
       "      <th>OBJECTID</th>\n",
       "      <th>HDenArea</th>\n",
       "      <th>CDenArea</th>\n",
       "      <th>Area</th>\n",
       "      <th>CBGID</th>\n",
       "      <th>Shape_Leng</th>\n",
       "      <th>Shape_Area</th>\n",
       "      <th>OBJECTID_1</th>\n",
       "      <th>CBGID_1</th>\n",
       "      <th>County</th>\n",
       "      <th>FREQ</th>\n",
       "      <th>TotH</th>\n",
       "      <th>TotC</th>\n",
       "    </tr>\n",
       "  </thead>\n",
       "  <tbody>\n",
       "    <tr>\n",
       "      <th>0</th>\n",
       "      <td>3</td>\n",
       "      <td>0.000000</td>\n",
       "      <td>0.000000</td>\n",
       "      <td>4.751585e+09</td>\n",
       "      <td>2.0</td>\n",
       "      <td>479475.878438</td>\n",
       "      <td>4.752875e+09</td>\n",
       "      <td>384</td>\n",
       "      <td>2.0</td>\n",
       "      <td>Alpine</td>\n",
       "      <td>3.0</td>\n",
       "      <td>0.000000e+00</td>\n",
       "      <td>0.000000e+00</td>\n",
       "    </tr>\n",
       "    <tr>\n",
       "      <th>1</th>\n",
       "      <td>6</td>\n",
       "      <td>0.804297</td>\n",
       "      <td>4.016123</td>\n",
       "      <td>5.637388e+06</td>\n",
       "      <td>5.0</td>\n",
       "      <td>17873.303206</td>\n",
       "      <td>5.613093e+06</td>\n",
       "      <td>5161</td>\n",
       "      <td>5.0</td>\n",
       "      <td>San Diego</td>\n",
       "      <td>5.0</td>\n",
       "      <td>4.534133e+06</td>\n",
       "      <td>2.264045e+07</td>\n",
       "    </tr>\n",
       "    <tr>\n",
       "      <th>2</th>\n",
       "      <td>7</td>\n",
       "      <td>0.123992</td>\n",
       "      <td>0.129391</td>\n",
       "      <td>2.995355e+06</td>\n",
       "      <td>6.0</td>\n",
       "      <td>7059.748924</td>\n",
       "      <td>2.984770e+06</td>\n",
       "      <td>1278</td>\n",
       "      <td>6.0</td>\n",
       "      <td>Los Angeles</td>\n",
       "      <td>1.0</td>\n",
       "      <td>3.714015e+05</td>\n",
       "      <td>3.875726e+05</td>\n",
       "    </tr>\n",
       "    <tr>\n",
       "      <th>3</th>\n",
       "      <td>12</td>\n",
       "      <td>0.107094</td>\n",
       "      <td>3.425346</td>\n",
       "      <td>7.478382e+07</td>\n",
       "      <td>11.0</td>\n",
       "      <td>39339.154823</td>\n",
       "      <td>7.445961e+07</td>\n",
       "      <td>1045</td>\n",
       "      <td>11.0</td>\n",
       "      <td>Imperial</td>\n",
       "      <td>9.0</td>\n",
       "      <td>8.008870e+06</td>\n",
       "      <td>2.561604e+08</td>\n",
       "    </tr>\n",
       "    <tr>\n",
       "      <th>4</th>\n",
       "      <td>14</td>\n",
       "      <td>0.236581</td>\n",
       "      <td>0.522539</td>\n",
       "      <td>4.995752e+06</td>\n",
       "      <td>13.0</td>\n",
       "      <td>9316.962438</td>\n",
       "      <td>4.978982e+06</td>\n",
       "      <td>1279</td>\n",
       "      <td>13.0</td>\n",
       "      <td>Los Angeles</td>\n",
       "      <td>2.0</td>\n",
       "      <td>1.181898e+06</td>\n",
       "      <td>2.610477e+06</td>\n",
       "    </tr>\n",
       "  </tbody>\n",
       "</table>\n",
       "</div>"
      ],
      "text/plain": [
       "   OBJECTID  HDenArea  CDenArea          Area  CBGID     Shape_Leng  \\\n",
       "0         3  0.000000  0.000000  4.751585e+09    2.0  479475.878438   \n",
       "1         6  0.804297  4.016123  5.637388e+06    5.0   17873.303206   \n",
       "2         7  0.123992  0.129391  2.995355e+06    6.0    7059.748924   \n",
       "3        12  0.107094  3.425346  7.478382e+07   11.0   39339.154823   \n",
       "4        14  0.236581  0.522539  4.995752e+06   13.0    9316.962438   \n",
       "\n",
       "     Shape_Area  OBJECTID_1  CBGID_1       County  FREQ          TotH  \\\n",
       "0  4.752875e+09         384      2.0       Alpine   3.0  0.000000e+00   \n",
       "1  5.613093e+06        5161      5.0    San Diego   5.0  4.534133e+06   \n",
       "2  2.984770e+06        1278      6.0  Los Angeles   1.0  3.714015e+05   \n",
       "3  7.445961e+07        1045     11.0     Imperial   9.0  8.008870e+06   \n",
       "4  4.978982e+06        1279     13.0  Los Angeles   2.0  1.181898e+06   \n",
       "\n",
       "           TotC  \n",
       "0  0.000000e+00  \n",
       "1  2.264045e+07  \n",
       "2  3.875726e+05  \n",
       "3  2.561604e+08  \n",
       "4  2.610477e+06  "
      ]
     },
     "execution_count": 41,
     "metadata": {},
     "output_type": "execute_result"
    }
   ],
   "source": [
    "cbg_thermalrun02016_original.head()"
   ]
  },
  {
   "cell_type": "code",
   "execution_count": null,
   "metadata": {
    "collapsed": true
   },
   "outputs": [],
   "source": [
    "cbg_thermalrun_gpd_all.to_file('GIS_data/Shapefile_Drafts/cbg_thermalrun_ToDissolve.shp')"
   ]
  },
  {
   "cell_type": "code",
   "execution_count": null,
   "metadata": {
    "collapsed": true
   },
   "outputs": [],
   "source": [
    "cbg_thermalrun_gpd_all=gpd.read_file('GIS_data/Shapefile_Drafts/cbg_thermalrun_ToDissolve.shp')"
   ]
  },
  {
   "cell_type": "code",
   "execution_count": null,
   "metadata": {
    "collapsed": true
   },
   "outputs": [],
   "source": [
    "cbg_dissolved_g = gpd.read_file('GIS_data/Shapefile_Drafts/cbg_thermalrun_dissolve.shp')"
   ]
  },
  {
   "cell_type": "code",
   "execution_count": null,
   "metadata": {
    "collapsed": true
   },
   "outputs": [],
   "source": [
    "cbg_dissolved_novals= cbg_dissolved_g[cbg_dissolved_g['Dissolve']=='novals']"
   ]
  },
  {
   "cell_type": "code",
   "execution_count": null,
   "metadata": {
    "collapsed": true
   },
   "outputs": [],
   "source": [
    "cbg_thermalrun_gpd_withvals = cbg_thermalrun_gpd_all[cbg_thermalrun_gpd_all['Dissolve']=='havevals']"
   ]
  },
  {
   "cell_type": "code",
   "execution_count": null,
   "metadata": {
    "collapsed": true
   },
   "outputs": [],
   "source": [
    "cbg_thermal_gpd_final = gpd.GeoDataFrame(pd.concat([cbg_thermalrun_gpd_withvals,cbg_dissolved_novals], ignore_index=True) )"
   ]
  },
  {
   "cell_type": "code",
   "execution_count": null,
   "metadata": {
    "collapsed": true
   },
   "outputs": [],
   "source": [
    "cbg_thermal_gpd_final.to_csv('GIS_data/final_data/cbg_thermalrun_gpd_dissolve.csv')"
   ]
  },
  {
   "cell_type": "code",
   "execution_count": null,
   "metadata": {
    "collapsed": true
   },
   "outputs": [],
   "source": [
    "cbg_thermal_gpd_final=loadDatasets('GIS_data/final_data/cbg_thermalrun_gpd_dissolve.csv')\n",
    "counties_df = loadDatasets('GIS_data/final_data/counties.csv')"
   ]
  },
  {
   "cell_type": "code",
   "execution_count": null,
   "metadata": {
    "collapsed": true
   },
   "outputs": [],
   "source": [
    "counties_df_geom = counties_df[['CID', 'geometry']]\n",
    "cbg_thermalrun_gpd = gpd.sjoin(cbg_thermal_gpd_final, counties_df_geom, how=\"left\", op='intersects')"
   ]
  },
  {
   "cell_type": "code",
   "execution_count": null,
   "metadata": {
    "collapsed": true
   },
   "outputs": [],
   "source": [
    "cbg_thermalrun_gpd.head()"
   ]
  },
  {
   "cell_type": "code",
   "execution_count": null,
   "metadata": {
    "collapsed": true
   },
   "outputs": [],
   "source": [
    "cbg_thermal_gpd_final_dup = cbg_thermalrun_gpd.drop_duplicates(subset=['OBJECTID'])"
   ]
  },
  {
   "cell_type": "code",
   "execution_count": null,
   "metadata": {
    "collapsed": true
   },
   "outputs": [],
   "source": [
    "cbg_thermal_gpd_final_dup['FID'] = cbg_thermal_gpd_final_dup['OBJECTID']"
   ]
  },
  {
   "cell_type": "code",
   "execution_count": null,
   "metadata": {
    "collapsed": true
   },
   "outputs": [],
   "source": [
    "cbg_thermal_gpd_final_dup.to_csv('GIS_data/final_data/cbg_thermalrun_gpd_dissolve.csv')"
   ]
  },
  {
   "cell_type": "code",
   "execution_count": null,
   "metadata": {
    "collapsed": true
   },
   "outputs": [],
   "source": [
    "cbg_thermal_gpd_final_dup[cbg_thermal_gpd_final_dup['FID']==6671]['CID'].iloc[0] = 9999999"
   ]
  },
  {
   "cell_type": "code",
   "execution_count": null,
   "metadata": {
    "collapsed": true
   },
   "outputs": [],
   "source": [
    "cbg_thermal_gpd_final_dup[10899:10900]"
   ]
  },
  {
   "cell_type": "code",
   "execution_count": null,
   "metadata": {
    "collapsed": true
   },
   "outputs": [],
   "source": [
    "cbg_thermal_gpd_final_dup = cbg_thermal_gpd_final_dup.drop([21], axis =1)"
   ]
  },
  {
   "cell_type": "code",
   "execution_count": null,
   "metadata": {
    "collapsed": true
   },
   "outputs": [],
   "source": [
    "cbg_thermal_gpd_final = cbg_thermal_gpd_final.drop(['CID'], axis=1)"
   ]
  },
  {
   "cell_type": "code",
   "execution_count": null,
   "metadata": {
    "collapsed": true
   },
   "outputs": [],
   "source": [
    "cbg_thermal_gpd_final.to_csv('GIS_data/final_data/cbg_thermalrun_gpd_dissolve.csv')"
   ]
  },
  {
   "cell_type": "code",
   "execution_count": null,
   "metadata": {
    "collapsed": true
   },
   "outputs": [],
   "source": [
    "cbg_thermal_gpd_final_dup.to_csv('GIS_data/final_data/cbg_thermalrun_gpd_dissolve.csv')"
   ]
  },
  {
   "cell_type": "code",
   "execution_count": null,
   "metadata": {
    "collapsed": true
   },
   "outputs": [],
   "source": [
    "select = ['Mclf_wet16','Mdy_wet16','Mbf_wet16', 'County']"
   ]
  },
  {
   "cell_type": "code",
   "execution_count": null,
   "metadata": {
    "collapsed": true
   },
   "outputs": [],
   "source": [
    "df.groupby([\"item\", \"color\"])[\"id\"].transform(\"count\")"
   ]
  },
  {
   "cell_type": "code",
   "execution_count": null,
   "metadata": {
    "collapsed": true
   },
   "outputs": [],
   "source": [
    "greoup = manure_pts[select].groupby('County').sum().sum(axis=1)"
   ]
  },
  {
   "cell_type": "code",
   "execution_count": null,
   "metadata": {
    "collapsed": true
   },
   "outputs": [],
   "source": [
    "manure_pts[manure_pts['County'] == 'Yolo']"
   ]
  },
  {
   "cell_type": "code",
   "execution_count": null,
   "metadata": {
    "collapsed": true
   },
   "outputs": [],
   "source": [
    "a = [1, 'a']\n",
    "b = ['b', 'm']"
   ]
  },
  {
   "cell_type": "code",
   "execution_count": 32,
   "metadata": {
    "collapsed": true
   },
   "outputs": [],
   "source": [
    "name = 'foo'"
   ]
  },
  {
   "cell_type": "code",
   "execution_count": 33,
   "metadata": {},
   "outputs": [
    {
     "ename": "SyntaxError",
     "evalue": "invalid syntax (<ipython-input-33-dd5dc4eb334b>, line 1)",
     "output_type": "error",
     "traceback": [
      "\u001b[0;36m  File \u001b[0;32m\"<ipython-input-33-dd5dc4eb334b>\"\u001b[0;36m, line \u001b[0;32m1\u001b[0m\n\u001b[0;31m    name.replace(/[\\[\\]]/g, \"\\\\$&\");\u001b[0m\n\u001b[0m                 ^\u001b[0m\n\u001b[0;31mSyntaxError\u001b[0m\u001b[0;31m:\u001b[0m invalid syntax\n"
     ]
    }
   ],
   "source": [
    "name.replace(/[\\[\\]]/g, \"\\\\$&\");"
   ]
  },
  {
   "cell_type": "code",
   "execution_count": null,
   "metadata": {
    "collapsed": true
   },
   "outputs": [],
   "source": []
  }
 ],
 "metadata": {
  "kernelspec": {
   "display_name": "Python 2",
   "language": "python",
   "name": "python2"
  },
  "language_info": {
   "codemirror_mode": {
    "name": "ipython",
    "version": 2
   },
   "file_extension": ".py",
   "mimetype": "text/x-python",
   "name": "python",
   "nbconvert_exporter": "python",
   "pygments_lexer": "ipython2",
   "version": "2.7.14"
  }
 },
 "nbformat": 4,
 "nbformat_minor": 2
}
