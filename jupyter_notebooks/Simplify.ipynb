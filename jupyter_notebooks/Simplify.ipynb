{
 "cells": [
  {
   "cell_type": "code",
   "execution_count": 1,
   "metadata": {
    "collapsed": true
   },
   "outputs": [],
   "source": [
    "import os, sys\n",
    "import json\n",
    "os.chdir('/Users/okavvada/Documents/Post-doc/BioSiting_tool/') "
   ]
  },
  {
   "cell_type": "code",
   "execution_count": 2,
   "metadata": {
    "collapsed": true
   },
   "outputs": [],
   "source": [
    "import pandas as pd\n",
    "import geopandas as gpd\n",
    "import os, sys\n",
    "import numpy as np\n",
    "from functions import getBiomassInCountiesAll, loadDatasets, getPointGeoDataFrame"
   ]
  },
  {
   "cell_type": "code",
   "execution_count": 4,
   "metadata": {
    "collapsed": true
   },
   "outputs": [],
   "source": [
    "xls_path = 'GIS_data/data_biositingtool_withwetweight.xlsx'"
   ]
  },
  {
   "cell_type": "code",
   "execution_count": 5,
   "metadata": {},
   "outputs": [],
   "source": [
    "manure_pts = pd.read_excel(xls_path, sheetname='manure_pts')\n",
    "manure_nonpts = pd.read_excel(xls_path, sheetname='manure_nonpts')\n",
    "msw_CBGcntrd = pd.read_excel(xls_path, sheetname='msw_CBGcntrd')\n",
    "crp2016_pts = pd.read_excel(xls_path, sheetname='crp2016_pts')\n",
    "crp2020_pts = pd.read_excel(xls_path, sheetname='crp2020_pts')\n",
    "crp2050_pts = pd.read_excel(xls_path, sheetname='crp2050_pts')\n",
    "proc_pts = pd.read_excel(xls_path, sheetname='proc_pts')\n",
    "proc_nonpts = pd.read_excel(xls_path, sheetname='proc_nonpts')\n",
    "DES_CBGcntrd = pd.read_excel(xls_path, sheetname='DES_CBGcntrd')\n",
    "MUD_nonpt = pd.read_excel(xls_path, sheetname='MUD_nonpt')\n",
    "PROC_ZCcntrd = pd.read_excel(xls_path, sheetname='PROC_ZCcntrd')\n",
    "COMB_pts = pd.read_excel(xls_path, sheetname='COMB_pts')\n",
    "AD_pts = pd.read_excel(xls_path, sheetname='AD_pts')\n",
    "W2E_pts = pd.read_excel(xls_path, sheetname='W2E_pts')"
   ]
  },
  {
   "cell_type": "code",
   "execution_count": 6,
   "metadata": {
    "collapsed": true
   },
   "outputs": [],
   "source": [
    "manure_pts = manure_pts.drop_duplicates(subset=['CAFO','County','WDID','Mclf_wet16','Mdy_wet16','Mbf_wet16','Mhg_wet16','Mly_wet16','Mclf_wet20','Mdy_wet20','Mbf_wet20','Mhg_wet20','Mly_wet20','Mclf_wet50','Mdy_wet50','Mbf_wet50','Mhg_wet50'])\n",
    "manure_nonpts = manure_nonpts.drop_duplicates(subset=['County','Mlr_wet16', 'Mpl_wet16', 'Mbr_wet16', 'Mtk_wet16', 'Mhg_wet16', 'Mgt_wet16', 'Msh_wet16', 'Meq_wet16', 'Mdk_wet16', 'Blr_wet16', 'Bpl_wet16', 'Bbr_wet16', 'Mlr_wet20', 'Mpl_wet20', 'Mbr_wet20', 'Mtk_wet20', 'Mhg_wet20', 'Mgt_wet20', 'Msh_wet20', 'Meq_wet20', 'Mdk_wet20', 'Blr_wet20', 'Bpl_wet20', 'Bbr_wet20', 'Mlr_wet50', 'Mpl_wet50', 'Mbr_wet50', 'Mtk_wet50', 'Mhg_wet50', 'Mgt_wet50', 'Msh_wet50', 'Meq_wet50', 'Mdk_wet50','Blr_wet50'])\n",
    "msw_CBGcntrd = msw_CBGcntrd.drop_duplicates(subset=['TRACTCE','County','MSWlb_dry50', 'MSWpp_dry50', 'MSWcd_dry50', 'MSWgn_dry50', 'MSWfd_wet50', 'MSWfog_wet50', 'MSWot_wet50', 'MSWlb_dry20', 'MSWpp_dry20', 'MSWcd_dry20', 'MSWgn_dry50', 'MSWfog_wet20', 'MSWot_wet20', 'MSWfd_wet20', 'MSWlb_dry16', 'MSWpp_dry16', 'MSWcd_dry16', 'MSWgn_dry20'])\n",
    "crp2016_pts = crp2016_pts.drop_duplicates(subset=['FIPS','COUNTY','CL_SZ','CL_SS','CROP','RES_dry16','CULL_wet16','PT_WT'])\n",
    "crp2020_pts = crp2020_pts.drop_duplicates(subset=['FIPS','COUNTY','CL_SZ','CL_SS','CROP','RES_dry20','CULL_wet20','PT_WT'])\n",
    "crp2050_pts = crp2050_pts.drop_duplicates(subset=['FIPS','COUNTY','CL_SZ','CL_SS','CROP','RES_dry50','CULL_wet50','PT_WT'])\n",
    "proc_pts = proc_pts.drop_duplicates(subset=['COUNTY','Company','MASTERTYPE','Type','Subtype','Latitude','Longitude','Emplycode'])\n",
    "proc_nonpts = proc_nonpts.drop_duplicates(subset=['COUNTY','Pff_wet50', 'Pwn_wet50', 'Pbry_wet50', 'Pdst_wet50', 'Prm_wet50', 'Ppm_wet50', 'Pah_dry50', 'Pas_dry50', 'Pws_dry50', 'Potns_dry50', 'Prh_dry50', 'Pcgt_dry50', 'Pcn_dry50', 'Pdeh_dry50', 'Pbky_wet50', 'Ptll_wet50', 'Pgrc_dry50', 'PPt_dry50', 'Pcn_wet20', 'Pdeh_wet20', 'Pff_wet20', 'Pwn_wet20', 'Pbry_wet20', 'Pdst_wet20', 'Prm_wet20', 'Ppm_wet20', 'Pah_dry20', 'Pas_dry20', 'Pws_dry20', 'Potns_dry20', 'Prh_dry20', 'Pcgt_dry20', 'Pcn_dry20', 'Pdeh_dry20', 'Pbky_wet20'])\n",
    "DES_CBGcntrd = DES_CBGcntrd.drop_duplicates(subset=['City','Type','PrimaryFue','USETYPE','CapSt','CapHW','CapCW','CHPCGCap','ExcessC','ExcessH'])\n",
    "MUD_nonpt = MUD_nonpt.drop_duplicates(subset=['County', 'Sm20','Med20','Lg20','Sm50','Med50','Lg50','Ctot50','Htot0','CGentotC50','CGentotH0','Clg50','Hlg50','CGenlgC50','CGenlgH0','Ctot20','Htot0','CGentotC20','CGentotH0','Clg20','Hlg20'])\n",
    "PROC_ZCcntrd = PROC_ZCcntrd.drop_duplicates(subset=['ZIPCODE','ESTAB','LOW_PH','AVG_PH','HIGH_PH','LOW_PC','AVG_PC','HIGH_PC'])\n",
    "COMB_pts = COMB_pts.drop_duplicates(subset=['CITY','NAME','COUNTY','Equivalent Generation','NP_MW','CF','YearLoadBDT','FUEL'])\n",
    "AD_pts = AD_pts.drop_duplicates(subset=['NAME','COUNTY','Equivalent Generation','MGDavg','DayLoad','DayloadBDT'])\n",
    "W2E_pts = W2E_pts.drop_duplicates(subset=['City','Name','County','Equivalent Generation','Feedstock','DayLoad','DayLoadBDT'])"
   ]
  },
  {
   "cell_type": "code",
   "execution_count": 12,
   "metadata": {
    "collapsed": true
   },
   "outputs": [],
   "source": [
    "manure_pts_gpd = gpd.read_file('GIS_data/Shapefile_Drafts/CAFO.shp')\n",
    "crp2016_pts_gpd = gpd.read_file('GIS_data/Shapefile_Drafts/crop_groupcentroid2016.shp')\n",
    "crp2020_pts_gpd = gpd.read_file('GIS_data/Shapefile_Drafts/crop_groupcentroid2020.shp')\n",
    "crp2050_pts_gpd = gpd.read_file('GIS_data/Shapefile_Drafts/crop_groupcentroid2050.shp')\n",
    "msw_CBGcntrd_gpd = gpd.read_file('GIS_data/Shapefile_Drafts/CTcentroidformMSW.shp')\n",
    "proc_pts_gpd = gpd.read_file('GIS_data/Shapefile_Drafts/FoodProcessors_LBNL_7_20_17wcounty.shp')\n",
    "DES_CBGcntrd_gpd = gpd.read_file('GIS_data/Shapefile_Drafts/CBGcentroidforDES.shp')\n",
    "MUD_nonpt_gpd = gpd.read_file('GIS_data/Shapefile_Drafts/CA_Counties_Simple.shp')\n",
    "PROC_ZCcntrd_gpd = gpd.read_file('GIS_data/Shapefile_Drafts/Zccentroidfoodprocenergy.shp')\n",
    "COMB_pts_gpd = gpd.read_file('GIS_data/Shapefile_Drafts/COMB_rev.shp')\n",
    "AD_pts_gpd = gpd.read_file('GIS_data/Shapefile_Drafts/WWTFbynearestcity.shp')\n",
    "W2E_pts_gpd = gpd.read_file('GIS_data/Shapefile_Drafts/organics_facilities.shp')\n",
    "counties_gpd = gpd.read_file('GIS_data/Shapefile_Drafts/CA_Counties_Simple.shp')"
   ]
  },
  {
   "cell_type": "code",
   "execution_count": 8,
   "metadata": {
    "collapsed": true
   },
   "outputs": [],
   "source": [
    "cbg_thermalrun02016 = gpd.read_file('GIS_data/Shapefile_Drafts/2016cbgRun0_simple.shp')\n",
    "cbg_thermalrun02016_original = gpd.read_file('GIS_data/Shapefile_Drafts/2016cbgRun0.shp')\n",
    "cbg_thermalrun02020_original = gpd.read_file('GIS_data/Shapefile_Drafts/2020cbgRun0.shp')\n",
    "cbg_thermalrun02050_original = gpd.read_file('GIS_data/Shapefile_Drafts/2050cbgRun0.shp')\n",
    "\n",
    "crs_init = cbg_thermalrun02016_original.crs\n",
    "cbg_thermalrun02016.crs = crs_init\n",
    "crs = {'init': 'epsg:4326'}\n",
    "cbg_thermalrun02016 = cbg_thermalrun02016.to_crs(crs)\n",
    "\n",
    "cbg_thermalrun02016_original = cbg_thermalrun02016_original.drop(['geometry'], axis=1)\n",
    "cbg_thermalrun02020_original = cbg_thermalrun02020_original.drop(['geometry'], axis=1)\n",
    "cbg_thermalrun02050_original = cbg_thermalrun02050_original.drop(['geometry'], axis=1)\n",
    "\n",
    "cbg_thermalrun02016_gpd = pd.merge(cbg_thermalrun02016_original, cbg_thermalrun02016, left_index=True, right_index=True, how='left')\n",
    "\n",
    "cbg_thermalrun02016_gpd['SUM_TotC16'] = cbg_thermalrun02016_gpd['CDenArea']\n",
    "cbg_thermalrun02016_gpd['SUM_TotH16'] = cbg_thermalrun02016_gpd['HDenArea']\n",
    "cbg_thermalrun02020_original['SUM_TotC20'] = cbg_thermalrun02020_original['CDenArea']\n",
    "cbg_thermalrun02020_original['SUM_TotH20'] = cbg_thermalrun02020_original['HDenArea']\n",
    "cbg_thermalrun02050_original['SUM_TotC50'] = cbg_thermalrun02050_original['CDenArea']\n",
    "cbg_thermalrun02050_original['SUM_TotH50'] = cbg_thermalrun02050_original['HDenArea']\n",
    "cbg_thermalrun02020_gpd = cbg_thermalrun02020_original[['OBJECTID', 'SUM_TotC20', 'SUM_TotH20']]\n",
    "cbg_thermalrun02050_gpd = cbg_thermalrun02050_original[['OBJECTID', 'SUM_TotC50', 'SUM_TotH50']]\n",
    "cbg_thermalrun_gpd = pd.merge(cbg_thermalrun02016_gpd, cbg_thermalrun02020_gpd, left_on='OBJECTID', right_on='OBJECTID', how='left')\n",
    "cbg_thermalrun_gpd = cbg_thermalrun_gpd[['OBJECTID', 'SUM_TotC20', 'SUM_TotH20', 'SUM_TotC16', 'SUM_TotH16', 'geometry']]\n",
    "\n",
    "cbg_thermalrun_gpd_all = gpd.GeoDataFrame(pd.merge(cbg_thermalrun_gpd, cbg_thermalrun02050_gpd, left_on='OBJECTID', right_on='OBJECTID', how='left'))\n",
    "cbg_thermalrun_gpd_all.crs = crs"
   ]
  },
  {
   "cell_type": "code",
   "execution_count": 9,
   "metadata": {
    "collapsed": true
   },
   "outputs": [],
   "source": [
    "cbg_thermalrun_gpd_all['Dissolve'] = np.where(((cbg_thermalrun_gpd_all['SUM_TotH16']==0) & \n",
    "                                           (cbg_thermalrun_gpd_all['SUM_TotC16']==0) & \n",
    "                                           (cbg_thermalrun_gpd_all['SUM_TotC50']==0) & \n",
    "                                           (cbg_thermalrun_gpd_all['SUM_TotH50']==0) &\n",
    "                                           (cbg_thermalrun_gpd_all['SUM_TotC20']==0) & \n",
    "                                           (cbg_thermalrun_gpd_all['SUM_TotH20']==0)), 'novals', 'havevals')\n",
    "dissolved = cbg_thermalrun_gpd_all.dissolve(by='Dissolve')\n",
    "dissolved['Dissolve'] = dissolved.index\n",
    "cbg_dissolved_novals= dissolved[dissolved['Dissolve']=='novals']\n",
    "cbg_thermalrun_gpd_withvals = cbg_thermalrun_gpd_all[cbg_thermalrun_gpd_all['Dissolve']=='havevals']\n",
    "cbg_thermalrun_gpd_all_dissolved = gpd.GeoDataFrame(pd.concat([cbg_thermalrun_gpd_withvals,cbg_dissolved_novals], ignore_index=True))\n",
    "cbg_thermalrun_gpd_all_dissolved.crs = {'init': 'epsg:4326'}"
   ]
  },
  {
   "cell_type": "code",
   "execution_count": 13,
   "metadata": {},
   "outputs": [],
   "source": [
    "PROC_ZCcntrd_gpd.loc[:,('ZIPCODE')] = [int(item) for item in PROC_ZCcntrd_gpd['ZIP_CODE']]\n",
    "manure_pts_gpd = manure_pts_gpd[['geometry', 'OBJECTID']]\n",
    "crp2016_pts_gpd = crp2016_pts_gpd[['geometry']]\n",
    "crp2020_pts_gpd = crp2020_pts_gpd[['geometry']]\n",
    "crp2050_pts_gpd = crp2050_pts_gpd[['geometry']]\n",
    "msw_CBGcntrd_gpd = msw_CBGcntrd_gpd[['geometry']]\n",
    "proc_pts_gpd = proc_pts_gpd[['geometry']]\n",
    "\n",
    "DES_CBGcntrd_gpd = DES_CBGcntrd_gpd[['geometry']]\n",
    "MUD_nonpt_gpd = MUD_nonpt_gpd[['geometry', 'NAME']]\n",
    "counties_gpd = counties_gpd[['geometry', 'NAME']]\n",
    "PROC_ZCcntrd_gpd = PROC_ZCcntrd_gpd[['geometry', 'ZIPCODE']]\n",
    "COMB_pts_gpd = COMB_pts_gpd[['geometry']]\n",
    "AD_pts_gpd = AD_pts_gpd[['geometry', 'NAME']]\n",
    "W2E_pts_gpd = W2E_pts_gpd[['geometry', 'NAME']]\n",
    "counties_gpd.loc[:,('County')] = counties_gpd['NAME']"
   ]
  },
  {
   "cell_type": "code",
   "execution_count": 14,
   "metadata": {
    "collapsed": true
   },
   "outputs": [],
   "source": [
    "manure_pts_gpd_final = pd.merge(manure_pts_gpd, manure_pts, left_on='OBJECTID', right_on='OBJECTID', how='right')\n",
    "crp2016_pts_gpd_final = pd.merge(crp2016_pts_gpd, crp2016_pts, left_index=True, right_on='FID', how='right')\n",
    "crp2020_pts_gpd_final = pd.merge(crp2020_pts_gpd, crp2020_pts, left_index=True, right_on='FID', how='right')\n",
    "crp2050_pts_gpd_final = pd.merge(crp2050_pts_gpd, crp2050_pts, left_index=True, right_on='FID', how='right')\n",
    "msw_CBGcntrd_gpd_final = pd.merge(msw_CBGcntrd_gpd, msw_CBGcntrd, left_index=True, right_on='FID', how='right')\n",
    "proc_pts_gpd_final = pd.merge(proc_pts_gpd, proc_pts, left_index=True, right_on='FID', how='right')\n",
    "DES_CBGcntrd_gpd_final = pd.merge(DES_CBGcntrd_gpd, DES_CBGcntrd, left_index=True, right_on='FID', how='right')\n",
    "MUD_nonpt_gpd_final = pd.merge(MUD_nonpt_gpd, MUD_nonpt, left_on='NAME', right_on='County', how='right')\n",
    "PROC_ZCcntrd_gpd_final = pd.merge(PROC_ZCcntrd_gpd, PROC_ZCcntrd, left_on='ZIPCODE', right_on='ZIPCODE', how='right')\n",
    "COMB_pts_gpd_final = pd.merge(COMB_pts_gpd, COMB_pts, left_index=True, right_index=True, how='right')\n",
    "AD_pts_gpd_final = pd.merge(AD_pts_gpd, AD_pts, left_on='NAME', right_on='NAME', how='right')\n",
    "W2E_pts_gpd_final = pd.merge(W2E_pts_gpd, W2E_pts, left_on='NAME', right_on='City', how='right')\n",
    "\n",
    "proc_pts_gpd_final.loc[:,('TYPE')] = 'PROC'\n",
    "DES_CBGcntrd_gpd_final.loc[:,('TYPE')] = 'DES_CBG'\n",
    "AD_pts_gpd_final.loc[:,('Type')] = 'AD_pts'\n",
    "COMB_pts_gpd_final.loc[:,('Type')] = 'COMB_pts'\n",
    "W2E_pts_gpd_final.loc[:,('Type')] = 'W2E_pts'\n",
    "DES_CBGcntrd_gpd_final.loc[:,('Type')] = 'DES_CBG_pts'\n",
    "PROC_ZCcntrd_gpd_final.loc[:,('Type')] = 'PROC_ZC_pts'\n",
    "manure_pts_gpd_final.loc[:,('Type')] = 'manure'\n",
    "crp2016_pts_gpd_final.loc[:,('Type')] = 'crop'\n",
    "crp2020_pts_gpd_final.loc[:,('Type')] = 'crop'\n",
    "crp2050_pts_gpd_final.loc[:,('Type')] = 'crop'\n",
    "msw_CBGcntrd_gpd_final.loc[:,('Type')] = 'msw'"
   ]
  },
  {
   "cell_type": "code",
   "execution_count": 36,
   "metadata": {},
   "outputs": [],
   "source": [
    "crs = {'init': 'epsg:4326'}\n",
    "manure_pts_gpd_final = manure_pts_gpd_final.to_crs(crs)\n",
    "msw_CBGcntrd_gpd_final = msw_CBGcntrd_gpd_final.to_crs(crs)\n",
    "proc_pts_gpd_final = proc_pts_gpd_final.to_crs(crs)\n",
    "counties_gpd = counties_gpd.to_crs(crs)\n",
    "DES_CBGcntrd_gpd_final = DES_CBGcntrd_gpd_final.to_crs(crs)\n",
    "COMB_pts_gpd_final = COMB_pts_gpd_final.to_crs(crs)\n",
    "AD_pts_gpd_final = AD_pts_gpd_final.to_crs(crs)\n",
    "W2E_pts_gpd_final = W2E_pts_gpd_final.to_crs(crs)\n",
    "crp2016_pts_gpd_final = crp2016_pts_gpd_final.to_crs(crs)\n",
    "crp2020_pts_gpd_final = crp2020_pts_gpd_final.to_crs(crs)\n",
    "crp2050_pts_gpd_final = crp2050_pts_gpd_final.to_crs(crs)"
   ]
  },
  {
   "cell_type": "code",
   "execution_count": 37,
   "metadata": {
    "collapsed": true
   },
   "outputs": [],
   "source": [
    "county_with_totals = getBiomassInCountiesAll(counties_gpd, \n",
    "                                                manure_pts_gpd_final, \n",
    "                                                msw_CBGcntrd_gpd_final, \n",
    "                                                crp2016_pts_gpd_final,\n",
    "                                                crp2020_pts_gpd_final,\n",
    "                                                crp2050_pts_gpd_final,\n",
    "                                                manure_nonpts,\n",
    "                                                proc_nonpts)"
   ]
  },
  {
   "cell_type": "code",
   "execution_count": null,
   "metadata": {
    "collapsed": true
   },
   "outputs": [],
   "source": []
  }
 ],
 "metadata": {
  "kernelspec": {
   "display_name": "Python 2",
   "language": "python",
   "name": "python2"
  },
  "language_info": {
   "codemirror_mode": {
    "name": "ipython",
    "version": 2
   },
   "file_extension": ".py",
   "mimetype": "text/x-python",
   "name": "python",
   "nbconvert_exporter": "python",
   "pygments_lexer": "ipython2",
   "version": "2.7.14"
  }
 },
 "nbformat": 4,
 "nbformat_minor": 2
}
